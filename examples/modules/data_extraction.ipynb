{
 "cells": [
  {
   "cell_type": "markdown",
   "metadata": {},
   "source": [
    "# Data Splitting Example\n",
    "## Goals: Demonstrate how to extract (wrangle) data from DFT (e.g., VASP) outputs for later featurization\n",
    "### Data\n",
    "**Relaxation**: *tests/data/vasp_relax/vasprun.xml*  \n",
    "\n",
    "**AIMD Trajectory**: *tests/data/vasp_md/vasprun.xml*"
   ]
  },
  {
   "cell_type": "markdown",
   "metadata": {},
   "source": [
    "## Imports"
   ]
  },
  {
   "cell_type": "code",
   "execution_count": null,
   "metadata": {},
   "outputs": [],
   "source": [
    "import numpy as np\n",
    "import pickle\n",
    "from pymatgen.io.vasp.outputs import Vasprun\n",
    "from uf3.data.io import DataCoordinator \n",
    "from uf3.util import subsample\n",
    "import pandas as pd\n",
    "import traceback"
   ]
  },
  {
   "cell_type": "markdown",
   "metadata": {},
   "source": [
    "## Data Files"
   ]
  },
  {
   "cell_type": "code",
   "execution_count": 2,
   "metadata": {},
   "outputs": [],
   "source": [
    "relax = './tests/data/vasp_relax/vasprun.xml'\n",
    "AIMD = './tests/data/vasp_md/vasprun.xml'"
   ]
  },
  {
   "cell_type": "markdown",
   "metadata": {},
   "source": [
    "## Data Extraction\n",
    "### Relaxation"
   ]
  },
  {
   "cell_type": "code",
   "execution_count": null,
   "metadata": {},
   "outputs": [],
   "source": [
    "df_relax=DataCoordinator()\n",
    "prefix = 'relax_'\n",
    "df = df_relax.dataframe_from_trajectory(relax, prefix=prefix, load=False,)\n",
    "n_samples = len(df)\n",
    "energy_list = df['energy'].values\n",
    "assert n_samples <= len(energy_list)\n",
    "subsamples = subsample.farthest_point_sampling(energy_list, max_samples=n_samples, min_diff=0.0)\n",
    "print(f\"Subsampling {n_samples} samples from {len(energy_list)}\")\n",
    "df = df.iloc[np.sort(subsamples)]\n",
    "df_relax.load_dataframe(df, prefix=prefix)\n",
    "df_relax=df_relax.consolidate()"
   ]
  },
  {
   "cell_type": "markdown",
   "metadata": {},
   "source": [
    "### AIMD"
   ]
  },
  {
   "cell_type": "code",
   "execution_count": null,
   "metadata": {},
   "outputs": [],
   "source": [
    "df_aimd=DataCoordinator()\n",
    "prefix = 'aimd_'\n",
    "df = df_aimd.dataframe_from_trajectory(AIMD, prefix=prefix, load=False,)\n",
    "n_samples = len(df)\n",
    "energy_list = df['energy'].values\n",
    "assert n_samples <= len(energy_list)\n",
    "subsamples = subsample.farthest_point_sampling(energy_list, max_samples=n_samples, min_diff=0.0)\n",
    "print(f\"Subsampling {n_samples} samples from {len(energy_list)}\")\n",
    "df = df.iloc[np.sort(subsamples)]\n",
    "df_aimd.load_dataframe(df, prefix=prefix)\n",
    "df_aimd=df_aimd.consolidate()"
   ]
  },
  {
   "cell_type": "markdown",
   "metadata": {},
   "source": [
    "## Combine extracted data and save to file"
   ]
  },
  {
   "cell_type": "code",
   "execution_count": 22,
   "metadata": {},
   "outputs": [],
   "source": [
    "data = pd.concat([df_relax, df_aimd])\n",
    "filepath = 'data.pkl'\n",
    "data.to_pickle(filepath)"
   ]
  }
 ],
 "metadata": {
  "kernelspec": {
   "display_name": "uf3_monk",
   "language": "python",
   "name": "python3"
  },
  "language_info": {
   "codemirror_mode": {
    "name": "ipython",
    "version": 3
   },
   "file_extension": ".py",
   "mimetype": "text/x-python",
   "name": "python",
   "nbconvert_exporter": "python",
   "pygments_lexer": "ipython3",
   "version": "3.11.6"
  }
 },
 "nbformat": 4,
 "nbformat_minor": 2
}
